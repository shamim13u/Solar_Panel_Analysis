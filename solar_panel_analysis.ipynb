{
  "cells": [
    {
      "cell_type": "markdown",
      "metadata": {
        "id": "view-in-github",
        "colab_type": "text"
      },
      "source": [
        "<a href=\"https://colab.research.google.com/github/shamim13u/Solar_Panel_Analysis/blob/main/solar_panel_analysis.ipynb\" target=\"_parent\"><img src=\"https://colab.research.google.com/assets/colab-badge.svg\" alt=\"Open In Colab\"/></a>"
      ]
    },
    {
      "cell_type": "markdown",
      "source": [
        "<div style=\"border-radius:20px;\n",
        "            border : black solid;\n",
        "            color: #403b34;\n",
        "            background-color: #cc7e08;\n",
        "            font-size:100%;\n",
        "            text-align: left;\n",
        "            margin-left: 10px;\n",
        "            margin-right: 10px;\">\n",
        "\n",
        "<h2 style='; border:0; border-radius: 15px; font-weight: bold; color:#2b2924'><center>\n",
        "    </br> Data Analytics of Photovoltaic System\n",
        "</center></h2>\n",
        "\n"
      ],
      "metadata": {
        "id": "sSrdcOzSvAJk"
      },
      "id": "sSrdcOzSvAJk"
    },
    {
      "cell_type": "markdown",
      "id": "ad8203b6",
      "metadata": {
        "papermill": {
          "duration": 0.008724,
          "end_time": "2023-06-17T21:58:12.229905",
          "exception": false,
          "start_time": "2023-06-17T21:58:12.221181",
          "status": "completed"
        },
        "tags": [],
        "id": "ad8203b6"
      },
      "source": [
        "<center>\n",
        "<img src=\"https://github.com/DorobantuDiana/DS_Projects/blob/main/objects/solar_power.gif?raw=true\" width=850>\n",
        "</center>"
      ]
    },
    {
      "cell_type": "markdown",
      "id": "c1a68074",
      "metadata": {
        "papermill": {
          "duration": 0.008741,
          "end_time": "2023-06-17T21:58:12.247415",
          "exception": false,
          "start_time": "2023-06-17T21:58:12.238674",
          "status": "completed"
        },
        "tags": [],
        "id": "c1a68074"
      },
      "source": [
        "<div style=\"border-radius:20px;\n",
        "            border : black solid;\n",
        "            color: #403b34;\n",
        "            background-color: #cc7e08;\n",
        "            font-size:100%;\n",
        "            text-align: left;\n",
        "            margin-left: 10px;\n",
        "            margin-right: 10px;\">\n",
        "\n",
        "<h2 style='; border:0; border-radius: 15px; font-weight: bold; color:#2b2924'><center>\n",
        "    </br> Data Analytics of Photovoltaic System\n",
        "</center></h2>  \n",
        "    \n",
        "* <b>Solar Panels</b>, also known as <i>photovoltaic (PV) panels</i>, are devices that <u>convert Sunlight into Electricity</u> using the photovoltaic effect; they play a crucial role in the <i>renewable energy sector</i>, providing a clean and sustainable source of power; solar panels have gained significant popularity due to their environmental benefits, potential cost savings and increasing energy demands.\n",
        "\n",
        "* by leveraging <b>data Analytics</b> techniques, solar panel projects can benefit from improved <b><i>energy forecasting</i></b>, optimized <b><i>system performance</i></b>, early <b><i>fault detection</i></b> and efficient <b><i>energy distribution</i></b>; these data-driven insights can enhance the solar energy system's:\n",
        "\n",
        "<ol style=\"margin-left:360px\">\n",
        "    <li><b>overall efficiency</b> </li>\n",
        "    <li><b>reliability</b></li>\n",
        "    <li><b>cost-effectiveness</b> </li>\n",
        "</ol>"
      ]
    },
    {
      "cell_type": "markdown",
      "id": "67d52727",
      "metadata": {
        "papermill": {
          "duration": 0.008335,
          "end_time": "2023-06-17T21:58:12.264714",
          "exception": false,
          "start_time": "2023-06-17T21:58:12.256379",
          "status": "completed"
        },
        "tags": [],
        "id": "67d52727"
      },
      "source": [
        "---\n",
        "<div style=\"border-radius:20px;\n",
        "            border : black solid;\n",
        "            color: #403b34;\n",
        "            background-color: #cc7e08;\n",
        "            font-size:100%;\n",
        "            text-align: left;\n",
        "            margin-left: 10px;\n",
        "            margin-right: 10px;\">\n",
        "\n",
        "<h2 style='; border:0; border-radius: 15px; font-weight: bold; color:#2b2924'><center>\n",
        "    </br> TABLE OF CONTENTS\n",
        "</center></h2>   \n",
        "\n",
        "1. [Dataset](#1)\n",
        "    \n",
        "2. [Libraries](#2)\n",
        "   \n",
        "3. [Data Loading](#3)\n",
        "\n",
        "4. [Describe the data](#4)\n",
        "\n",
        "5. [Check if any missing values](#5)\n",
        "\n",
        "6. [Total Number of Invertor](#6)\n",
        "\n",
        "7. [EDA](#7)\n",
        "    \n",
        "8. [System Performance Analysis](#8)\n",
        "\n",
        "9. [Performance Ratio](#9)\n",
        "\n",
        "\n",
        "     \n",
        "<br>  \n",
        "    \n",
        "---"
      ]
    },
    {
      "cell_type": "code",
      "source": [
        "from google.colab import drive\n",
        "drive.mount('/content/drive')"
      ],
      "metadata": {
        "colab": {
          "base_uri": "https://localhost:8080/"
        },
        "id": "9JaNS82T8AcH",
        "outputId": "097e7b45-6588-42c4-de63-e3d03292880f"
      },
      "id": "9JaNS82T8AcH",
      "execution_count": 1,
      "outputs": [
        {
          "output_type": "stream",
          "name": "stdout",
          "text": [
            "Mounted at /content/drive\n"
          ]
        }
      ]
    },
    {
      "cell_type": "markdown",
      "id": "990cc5ae",
      "metadata": {
        "papermill": {
          "duration": 0.008315,
          "end_time": "2023-06-17T21:58:12.300456",
          "exception": false,
          "start_time": "2023-06-17T21:58:12.292141",
          "status": "completed"
        },
        "tags": [],
        "id": "990cc5ae"
      },
      "source": [
        "<div style=\"border-radius:20px;\n",
        "            border : black solid;\n",
        "            color: #403b34;\n",
        "            background-color: #cc7e08;\n",
        "            font-size:100%;\n",
        "            text-align: left;\n",
        "            margin-left: 10px;\n",
        "            margin-right: 10px;\">\n",
        "\n",
        "<h2 style='; border:0; border-radius: 15px; font-weight: bold; color:#2b2924'><center>\n",
        "    </br> LIBRARIES\n",
        "</center></h2>"
      ]
    },
    {
      "cell_type": "code",
      "execution_count": 2,
      "id": "45460c89",
      "metadata": {
        "execution": {
          "iopub.execute_input": "2023-06-17T21:58:12.320623Z",
          "iopub.status.busy": "2023-06-17T21:58:12.319815Z",
          "iopub.status.idle": "2023-06-17T21:58:14.220970Z",
          "shell.execute_reply": "2023-06-17T21:58:14.219904Z"
        },
        "papermill": {
          "duration": 1.914596,
          "end_time": "2023-06-17T21:58:14.223893",
          "exception": false,
          "start_time": "2023-06-17T21:58:12.309297",
          "status": "completed"
        },
        "tags": [],
        "id": "45460c89"
      },
      "outputs": [],
      "source": [
        "import numpy as np\n",
        "import pandas as pd\n",
        "import matplotlib.pyplot as plt\n",
        "import warnings\n",
        "warnings.filterwarnings('ignore')\n",
        "import matplotlib.pyplot as plt\n",
        "import seaborn as sns\n",
        "from sklearn.preprocessing import LabelEncoder"
      ]
    },
    {
      "cell_type": "markdown",
      "id": "b96430fe",
      "metadata": {
        "papermill": {
          "duration": 0.008411,
          "end_time": "2023-06-17T21:58:14.241448",
          "exception": false,
          "start_time": "2023-06-17T21:58:14.233037",
          "status": "completed"
        },
        "tags": [],
        "id": "b96430fe"
      },
      "source": [
        "<div style=\"border-radius:20px;\n",
        "            border : black solid;\n",
        "            color: #403b34;\n",
        "            background-color: #cc7e08;\n",
        "            font-size:100%;\n",
        "            text-align: left;\n",
        "            margin-left: 10px;\n",
        "            margin-right: 10px;\">\n",
        "\n",
        "<h2 style='; border:0; border-radius: 15px; font-weight: bold; color:#2b2924'><center>\n",
        "    </br> DATA LOADING\n",
        "</center></h2>"
      ]
    },
    {
      "cell_type": "code",
      "execution_count": 3,
      "id": "b67bffdd",
      "metadata": {
        "execution": {
          "iopub.execute_input": "2023-06-17T21:58:14.260853Z",
          "iopub.status.busy": "2023-06-17T21:58:14.260466Z",
          "iopub.status.idle": "2023-06-17T21:58:14.657880Z",
          "shell.execute_reply": "2023-06-17T21:58:14.656741Z"
        },
        "papermill": {
          "duration": 0.410313,
          "end_time": "2023-06-17T21:58:14.660534",
          "exception": false,
          "start_time": "2023-06-17T21:58:14.250221",
          "status": "completed"
        },
        "tags": [],
        "id": "b67bffdd"
      },
      "outputs": [],
      "source": [
        "# power generation datasets\n",
        "Plant_1_Generation_Data = pd.read_csv(\"/content/drive/MyDrive/Colab Notebooks/sp/Plant_1_Generation_Data.csv\")\n",
        "Plant_2_Generation_Data = pd.read_csv(\"/content/drive/MyDrive/Colab Notebooks/sp/Plant_2_Generation_Data.csv\")\n",
        "# sensor datasets\n",
        "Plant_1_weather_sensor_Data = pd.read_csv(\"/content/drive/MyDrive/Colab Notebooks/sp/Plant_1_Weather_Sensor_Data.csv\")\n",
        "Plant_2_weather_sensor_Data = pd.read_csv(\"/content/drive/MyDrive/Colab Notebooks/sp/Plant_2_Weather_Sensor_Data.csv\")\n",
        "\n",
        "\n"
      ]
    },
    {
      "cell_type": "code",
      "source": [
        "Plant_1_Generation_Data.head()"
      ],
      "metadata": {
        "id": "rz9MQ0SDWidM"
      },
      "id": "rz9MQ0SDWidM",
      "execution_count": null,
      "outputs": []
    },
    {
      "cell_type": "code",
      "source": [
        "Plant_2_Generation_Data.head()"
      ],
      "metadata": {
        "id": "WeV1hcUvbNnd"
      },
      "id": "WeV1hcUvbNnd",
      "execution_count": null,
      "outputs": []
    },
    {
      "cell_type": "code",
      "source": [
        "Plant_1_weather_sensor_Data.head()"
      ],
      "metadata": {
        "id": "RtN7YVLmbNYg"
      },
      "id": "RtN7YVLmbNYg",
      "execution_count": null,
      "outputs": []
    },
    {
      "cell_type": "code",
      "source": [
        "Plant_2_weather_sensor_Data.head()"
      ],
      "metadata": {
        "id": "ixV-ydXxbNGQ"
      },
      "id": "ixV-ydXxbNGQ",
      "execution_count": null,
      "outputs": []
    },
    {
      "cell_type": "markdown",
      "source": [
        "<div style=\"border-radius:20px;\n",
        "            border : black solid;\n",
        "            color: #403b34;\n",
        "            background-color: #cc7e08;\n",
        "            font-size:100%;\n",
        "            text-align: left;\n",
        "            margin-left: 10px;\n",
        "            margin-right: 10px;\">\n",
        "\n",
        "<h2 style='; border:0; border-radius: 15px; font-weight: bold; color:#2b2924'><center>\n",
        "    </br> DESCRIBE THE DATA\n",
        "</center></h2>\n"
      ],
      "metadata": {
        "id": "okiK2Iwc9KLq"
      },
      "id": "okiK2Iwc9KLq"
    },
    {
      "cell_type": "code",
      "source": [
        "Plant_1_Generation_Data.describe()"
      ],
      "metadata": {
        "id": "6VMGSEmO9HkC"
      },
      "id": "6VMGSEmO9HkC",
      "execution_count": null,
      "outputs": []
    },
    {
      "cell_type": "code",
      "source": [
        "Plant_2_Generation_Data.describe()\n"
      ],
      "metadata": {
        "id": "Wd5OdfoA70IO"
      },
      "id": "Wd5OdfoA70IO",
      "execution_count": null,
      "outputs": []
    },
    {
      "cell_type": "code",
      "source": [
        "Plant_1_weather_sensor_Data.describe()"
      ],
      "metadata": {
        "id": "h3l-TZnZ8m3Z"
      },
      "id": "h3l-TZnZ8m3Z",
      "execution_count": null,
      "outputs": []
    },
    {
      "cell_type": "code",
      "source": [
        "Plant_2_weather_sensor_Data.describe()"
      ],
      "metadata": {
        "id": "nXW0XCfM9lCS"
      },
      "id": "nXW0XCfM9lCS",
      "execution_count": null,
      "outputs": []
    },
    {
      "cell_type": "code",
      "source": [
        "Plant_1_Generation_Data.head()"
      ],
      "metadata": {
        "id": "KDEcDVhY-rxR"
      },
      "id": "KDEcDVhY-rxR",
      "execution_count": null,
      "outputs": []
    },
    {
      "cell_type": "code",
      "source": [
        "Plant_2_Generation_Data.head()"
      ],
      "metadata": {
        "colab": {
          "base_uri": "https://localhost:8080/",
          "height": 206
        },
        "id": "j0Kj6TO5-zeH",
        "outputId": "fe223ad2-f042-401f-be8c-bc8504629007"
      },
      "id": "j0Kj6TO5-zeH",
      "execution_count": 14,
      "outputs": [
        {
          "output_type": "execute_result",
          "data": {
            "text/plain": [
              "             DATE_TIME  PLANT_ID       SOURCE_KEY  DC_POWER  AC_POWER  \\\n",
              "0  2020-05-15 00:00:00   4136001  4UPUqMRk7TRMgml       0.0       0.0   \n",
              "1  2020-05-15 00:00:00   4136001  81aHJ1q11NBPMrL       0.0       0.0   \n",
              "2  2020-05-15 00:00:00   4136001  9kRcWv60rDACzjR       0.0       0.0   \n",
              "3  2020-05-15 00:00:00   4136001  Et9kgGMDl729KT4       0.0       0.0   \n",
              "4  2020-05-15 00:00:00   4136001  IQ2d7wF4YD8zU1Q       0.0       0.0   \n",
              "\n",
              "   DAILY_YIELD   TOTAL_YIELD  \n",
              "0  9425.000000  2.429011e+06  \n",
              "1     0.000000  1.215279e+09  \n",
              "2  3075.333333  2.247720e+09  \n",
              "3   269.933333  1.704250e+06  \n",
              "4  3177.000000  1.994153e+07  "
            ],
            "text/html": [
              "\n",
              "\n",
              "  <div id=\"df-5011c039-faf8-4787-ae93-28038763667e\">\n",
              "    <div class=\"colab-df-container\">\n",
              "      <div>\n",
              "<style scoped>\n",
              "    .dataframe tbody tr th:only-of-type {\n",
              "        vertical-align: middle;\n",
              "    }\n",
              "\n",
              "    .dataframe tbody tr th {\n",
              "        vertical-align: top;\n",
              "    }\n",
              "\n",
              "    .dataframe thead th {\n",
              "        text-align: right;\n",
              "    }\n",
              "</style>\n",
              "<table border=\"1\" class=\"dataframe\">\n",
              "  <thead>\n",
              "    <tr style=\"text-align: right;\">\n",
              "      <th></th>\n",
              "      <th>DATE_TIME</th>\n",
              "      <th>PLANT_ID</th>\n",
              "      <th>SOURCE_KEY</th>\n",
              "      <th>DC_POWER</th>\n",
              "      <th>AC_POWER</th>\n",
              "      <th>DAILY_YIELD</th>\n",
              "      <th>TOTAL_YIELD</th>\n",
              "    </tr>\n",
              "  </thead>\n",
              "  <tbody>\n",
              "    <tr>\n",
              "      <th>0</th>\n",
              "      <td>2020-05-15 00:00:00</td>\n",
              "      <td>4136001</td>\n",
              "      <td>4UPUqMRk7TRMgml</td>\n",
              "      <td>0.0</td>\n",
              "      <td>0.0</td>\n",
              "      <td>9425.000000</td>\n",
              "      <td>2.429011e+06</td>\n",
              "    </tr>\n",
              "    <tr>\n",
              "      <th>1</th>\n",
              "      <td>2020-05-15 00:00:00</td>\n",
              "      <td>4136001</td>\n",
              "      <td>81aHJ1q11NBPMrL</td>\n",
              "      <td>0.0</td>\n",
              "      <td>0.0</td>\n",
              "      <td>0.000000</td>\n",
              "      <td>1.215279e+09</td>\n",
              "    </tr>\n",
              "    <tr>\n",
              "      <th>2</th>\n",
              "      <td>2020-05-15 00:00:00</td>\n",
              "      <td>4136001</td>\n",
              "      <td>9kRcWv60rDACzjR</td>\n",
              "      <td>0.0</td>\n",
              "      <td>0.0</td>\n",
              "      <td>3075.333333</td>\n",
              "      <td>2.247720e+09</td>\n",
              "    </tr>\n",
              "    <tr>\n",
              "      <th>3</th>\n",
              "      <td>2020-05-15 00:00:00</td>\n",
              "      <td>4136001</td>\n",
              "      <td>Et9kgGMDl729KT4</td>\n",
              "      <td>0.0</td>\n",
              "      <td>0.0</td>\n",
              "      <td>269.933333</td>\n",
              "      <td>1.704250e+06</td>\n",
              "    </tr>\n",
              "    <tr>\n",
              "      <th>4</th>\n",
              "      <td>2020-05-15 00:00:00</td>\n",
              "      <td>4136001</td>\n",
              "      <td>IQ2d7wF4YD8zU1Q</td>\n",
              "      <td>0.0</td>\n",
              "      <td>0.0</td>\n",
              "      <td>3177.000000</td>\n",
              "      <td>1.994153e+07</td>\n",
              "    </tr>\n",
              "  </tbody>\n",
              "</table>\n",
              "</div>\n",
              "      <button class=\"colab-df-convert\" onclick=\"convertToInteractive('df-5011c039-faf8-4787-ae93-28038763667e')\"\n",
              "              title=\"Convert this dataframe to an interactive table.\"\n",
              "              style=\"display:none;\">\n",
              "\n",
              "  <svg xmlns=\"http://www.w3.org/2000/svg\" height=\"24px\"viewBox=\"0 0 24 24\"\n",
              "       width=\"24px\">\n",
              "    <path d=\"M0 0h24v24H0V0z\" fill=\"none\"/>\n",
              "    <path d=\"M18.56 5.44l.94 2.06.94-2.06 2.06-.94-2.06-.94-.94-2.06-.94 2.06-2.06.94zm-11 1L8.5 8.5l.94-2.06 2.06-.94-2.06-.94L8.5 2.5l-.94 2.06-2.06.94zm10 10l.94 2.06.94-2.06 2.06-.94-2.06-.94-.94-2.06-.94 2.06-2.06.94z\"/><path d=\"M17.41 7.96l-1.37-1.37c-.4-.4-.92-.59-1.43-.59-.52 0-1.04.2-1.43.59L10.3 9.45l-7.72 7.72c-.78.78-.78 2.05 0 2.83L4 21.41c.39.39.9.59 1.41.59.51 0 1.02-.2 1.41-.59l7.78-7.78 2.81-2.81c.8-.78.8-2.07 0-2.86zM5.41 20L4 18.59l7.72-7.72 1.47 1.35L5.41 20z\"/>\n",
              "  </svg>\n",
              "      </button>\n",
              "\n",
              "\n",
              "\n",
              "    <div id=\"df-aa89dd72-7f41-4759-acd8-e1656eb006fd\">\n",
              "      <button class=\"colab-df-quickchart\" onclick=\"quickchart('df-aa89dd72-7f41-4759-acd8-e1656eb006fd')\"\n",
              "              title=\"Suggest charts.\"\n",
              "              style=\"display:none;\">\n",
              "\n",
              "<svg xmlns=\"http://www.w3.org/2000/svg\" height=\"24px\"viewBox=\"0 0 24 24\"\n",
              "     width=\"24px\">\n",
              "    <g>\n",
              "        <path d=\"M19 3H5c-1.1 0-2 .9-2 2v14c0 1.1.9 2 2 2h14c1.1 0 2-.9 2-2V5c0-1.1-.9-2-2-2zM9 17H7v-7h2v7zm4 0h-2V7h2v10zm4 0h-2v-4h2v4z\"/>\n",
              "    </g>\n",
              "</svg>\n",
              "      </button>\n",
              "    </div>\n",
              "\n",
              "<style>\n",
              "  .colab-df-quickchart {\n",
              "    background-color: #E8F0FE;\n",
              "    border: none;\n",
              "    border-radius: 50%;\n",
              "    cursor: pointer;\n",
              "    display: none;\n",
              "    fill: #1967D2;\n",
              "    height: 32px;\n",
              "    padding: 0 0 0 0;\n",
              "    width: 32px;\n",
              "  }\n",
              "\n",
              "  .colab-df-quickchart:hover {\n",
              "    background-color: #E2EBFA;\n",
              "    box-shadow: 0px 1px 2px rgba(60, 64, 67, 0.3), 0px 1px 3px 1px rgba(60, 64, 67, 0.15);\n",
              "    fill: #174EA6;\n",
              "  }\n",
              "\n",
              "  [theme=dark] .colab-df-quickchart {\n",
              "    background-color: #3B4455;\n",
              "    fill: #D2E3FC;\n",
              "  }\n",
              "\n",
              "  [theme=dark] .colab-df-quickchart:hover {\n",
              "    background-color: #434B5C;\n",
              "    box-shadow: 0px 1px 3px 1px rgba(0, 0, 0, 0.15);\n",
              "    filter: drop-shadow(0px 1px 2px rgba(0, 0, 0, 0.3));\n",
              "    fill: #FFFFFF;\n",
              "  }\n",
              "</style>\n",
              "\n",
              "    <script>\n",
              "      async function quickchart(key) {\n",
              "        const containerElement = document.querySelector('#' + key);\n",
              "        const charts = await google.colab.kernel.invokeFunction(\n",
              "            'suggestCharts', [key], {});\n",
              "      }\n",
              "    </script>\n",
              "\n",
              "      <script>\n",
              "\n",
              "function displayQuickchartButton(domScope) {\n",
              "  let quickchartButtonEl =\n",
              "    domScope.querySelector('#df-aa89dd72-7f41-4759-acd8-e1656eb006fd button.colab-df-quickchart');\n",
              "  quickchartButtonEl.style.display =\n",
              "    google.colab.kernel.accessAllowed ? 'block' : 'none';\n",
              "}\n",
              "\n",
              "        displayQuickchartButton(document);\n",
              "      </script>\n",
              "      <style>\n",
              "    .colab-df-container {\n",
              "      display:flex;\n",
              "      flex-wrap:wrap;\n",
              "      gap: 12px;\n",
              "    }\n",
              "\n",
              "    .colab-df-convert {\n",
              "      background-color: #E8F0FE;\n",
              "      border: none;\n",
              "      border-radius: 50%;\n",
              "      cursor: pointer;\n",
              "      display: none;\n",
              "      fill: #1967D2;\n",
              "      height: 32px;\n",
              "      padding: 0 0 0 0;\n",
              "      width: 32px;\n",
              "    }\n",
              "\n",
              "    .colab-df-convert:hover {\n",
              "      background-color: #E2EBFA;\n",
              "      box-shadow: 0px 1px 2px rgba(60, 64, 67, 0.3), 0px 1px 3px 1px rgba(60, 64, 67, 0.15);\n",
              "      fill: #174EA6;\n",
              "    }\n",
              "\n",
              "    [theme=dark] .colab-df-convert {\n",
              "      background-color: #3B4455;\n",
              "      fill: #D2E3FC;\n",
              "    }\n",
              "\n",
              "    [theme=dark] .colab-df-convert:hover {\n",
              "      background-color: #434B5C;\n",
              "      box-shadow: 0px 1px 3px 1px rgba(0, 0, 0, 0.15);\n",
              "      filter: drop-shadow(0px 1px 2px rgba(0, 0, 0, 0.3));\n",
              "      fill: #FFFFFF;\n",
              "    }\n",
              "  </style>\n",
              "\n",
              "      <script>\n",
              "        const buttonEl =\n",
              "          document.querySelector('#df-5011c039-faf8-4787-ae93-28038763667e button.colab-df-convert');\n",
              "        buttonEl.style.display =\n",
              "          google.colab.kernel.accessAllowed ? 'block' : 'none';\n",
              "\n",
              "        async function convertToInteractive(key) {\n",
              "          const element = document.querySelector('#df-5011c039-faf8-4787-ae93-28038763667e');\n",
              "          const dataTable =\n",
              "            await google.colab.kernel.invokeFunction('convertToInteractive',\n",
              "                                                     [key], {});\n",
              "          if (!dataTable) return;\n",
              "\n",
              "          const docLinkHtml = 'Like what you see? Visit the ' +\n",
              "            '<a target=\"_blank\" href=https://colab.research.google.com/notebooks/data_table.ipynb>data table notebook</a>'\n",
              "            + ' to learn more about interactive tables.';\n",
              "          element.innerHTML = '';\n",
              "          dataTable['output_type'] = 'display_data';\n",
              "          await google.colab.output.renderOutput(dataTable, element);\n",
              "          const docLink = document.createElement('div');\n",
              "          docLink.innerHTML = docLinkHtml;\n",
              "          element.appendChild(docLink);\n",
              "        }\n",
              "      </script>\n",
              "    </div>\n",
              "  </div>\n"
            ]
          },
          "metadata": {},
          "execution_count": 14
        }
      ]
    },
    {
      "cell_type": "code",
      "source": [
        "Plant_1_weather_sensor_Data.head()"
      ],
      "metadata": {
        "id": "1YicY0k-ASwj"
      },
      "id": "1YicY0k-ASwj",
      "execution_count": null,
      "outputs": []
    },
    {
      "cell_type": "code",
      "source": [
        "Plant_2_weather_sensor_Data"
      ],
      "metadata": {
        "id": "-EPmLGyGASb8"
      },
      "id": "-EPmLGyGASb8",
      "execution_count": null,
      "outputs": []
    },
    {
      "cell_type": "markdown",
      "source": [
        "<div style=\"border-radius:20px;\n",
        "            border : black solid;\n",
        "            color: #403b34;\n",
        "            background-color: #cc7e08;\n",
        "            font-size:100%;\n",
        "            text-align: left;\n",
        "            margin-left: 10px;\n",
        "            margin-right: 10px;\">\n",
        "\n",
        "<h2 style='; border:0; border-radius: 15px; font-weight: bold; color:#2b2924'><center>\n",
        "    </br> CHECK MISSING VALUES\n",
        "</center></h2>"
      ],
      "metadata": {
        "id": "iogUm5W090uP"
      },
      "id": "iogUm5W090uP"
    },
    {
      "cell_type": "code",
      "source": [
        "Plant_1_Generation_Data.isnull().sum()"
      ],
      "metadata": {
        "colab": {
          "base_uri": "https://localhost:8080/"
        },
        "id": "XpGvtf4t-YQ_",
        "outputId": "8e2f52a0-4a59-4276-e89a-47af15e14304"
      },
      "id": "XpGvtf4t-YQ_",
      "execution_count": 16,
      "outputs": [
        {
          "output_type": "execute_result",
          "data": {
            "text/plain": [
              "DATE_TIME      0\n",
              "PLANT_ID       0\n",
              "SOURCE_KEY     0\n",
              "DC_POWER       0\n",
              "AC_POWER       0\n",
              "DAILY_YIELD    0\n",
              "TOTAL_YIELD    0\n",
              "dtype: int64"
            ]
          },
          "metadata": {},
          "execution_count": 16
        }
      ]
    },
    {
      "cell_type": "code",
      "source": [
        "Plant_2_Generation_Data.isnull().sum()"
      ],
      "metadata": {
        "id": "jdlt1OgUA8d5"
      },
      "id": "jdlt1OgUA8d5",
      "execution_count": null,
      "outputs": []
    },
    {
      "cell_type": "code",
      "source": [
        "Plant_1_weather_sensor_Data.isnull().sum()"
      ],
      "metadata": {
        "id": "n5iJ8uuuA77t"
      },
      "id": "n5iJ8uuuA77t",
      "execution_count": null,
      "outputs": []
    },
    {
      "cell_type": "code",
      "source": [
        "Plant_2_weather_sensor_Data.isnull().sum()"
      ],
      "metadata": {
        "id": "p48oDjr7A7RC"
      },
      "id": "p48oDjr7A7RC",
      "execution_count": null,
      "outputs": []
    },
    {
      "cell_type": "markdown",
      "source": [
        "<div style=\"border-radius:20px;\n",
        "            border : black solid;\n",
        "            color: #403b34;\n",
        "            background-color: #cc7e08;\n",
        "            font-size:100%;\n",
        "            text-align: left;\n",
        "            margin-left: 10px;\n",
        "            margin-right: 10px;\">\n",
        "\n",
        "<h2 style='; border:0; border-radius: 15px; font-weight: bold; color:#2b2924'><center>\n",
        "    </br> MAXIMUM AMBIENT TEMPERATURE\n",
        "</center></h2>"
      ],
      "metadata": {
        "id": "_MdvvFYFBfjf"
      },
      "id": "_MdvvFYFBfjf"
    },
    {
      "cell_type": "code",
      "source": [
        "Plant_1_ambient_temperature = Plant_1_weather_sensor_Data['AMBIENT_TEMPERATURE']\n",
        "max(round(Plant_1_ambient_temperature,2))"
      ],
      "metadata": {
        "id": "OUg2li-WBiO0"
      },
      "id": "OUg2li-WBiO0",
      "execution_count": null,
      "outputs": []
    },
    {
      "cell_type": "code",
      "source": [
        "Plant_2_ambient_temperature = Plant_2_weather_sensor_Data['AMBIENT_TEMPERATURE']\n",
        "max(round(Plant_2_ambient_temperature,2))"
      ],
      "metadata": {
        "id": "U9WCqUXOCAuP"
      },
      "id": "U9WCqUXOCAuP",
      "execution_count": null,
      "outputs": []
    },
    {
      "cell_type": "code",
      "source": [
        "Plant_1_Generation_Data.iloc[[max(Plant_1_Generation_Data['DC_POWER'])]]"
      ],
      "metadata": {
        "id": "FjN_XXwKCbFr"
      },
      "id": "FjN_XXwKCbFr",
      "execution_count": null,
      "outputs": []
    },
    {
      "cell_type": "code",
      "source": [
        "Plant_2_Generation_Data.iloc[[max(Plant_2_Generation_Data['DC_POWER'])]]"
      ],
      "metadata": {
        "id": "hAIULzLdCa3j"
      },
      "id": "hAIULzLdCa3j",
      "execution_count": null,
      "outputs": []
    },
    {
      "cell_type": "code",
      "source": [
        "Plant_1_Generation_Data.sort_values(\"DC_POWER\", axis = 0, ascending = False,\n",
        "                 inplace = True, na_position ='last')\n",
        "Plant_1_Generation_Data"
      ],
      "metadata": {
        "id": "xH8R0PKFDN1E"
      },
      "id": "xH8R0PKFDN1E",
      "execution_count": null,
      "outputs": []
    },
    {
      "cell_type": "code",
      "source": [
        "Plant_2_Generation_Data.sort_values(\"DC_POWER\", axis = 0, ascending = False,\n",
        "                 inplace = True, na_position ='last')\n",
        "Plant_2_Generation_Data"
      ],
      "metadata": {
        "id": "fYsAV2TnDdQz"
      },
      "id": "fYsAV2TnDdQz",
      "execution_count": null,
      "outputs": []
    },
    {
      "cell_type": "markdown",
      "source": [
        "<div style=\"border-radius:20px;\n",
        "            border : black solid;\n",
        "            color: #403b34;\n",
        "            background-color: #cc7e08;\n",
        "            font-size:100%;\n",
        "            text-align: left;\n",
        "            margin-left: 10px;\n",
        "            margin-right: 10px;\">\n",
        "\n",
        "<h2 style='; border:0; border-radius: 15px; font-weight: bold; color:#2b2924'><center>\n",
        "     </br> TOTAL NUMBER OF INVERTOR\n",
        "\n",
        "</center></h2>"
      ],
      "metadata": {
        "id": "s1RbHqp8dyDU"
      },
      "id": "s1RbHqp8dyDU"
    },
    {
      "cell_type": "code",
      "source": [
        "print(\"The number of inverters in plant_1 = \",Plant_1_Generation_Data ['SOURCE_KEY'].nunique())"
      ],
      "metadata": {
        "id": "vJFKqyGkdF04"
      },
      "id": "vJFKqyGkdF04",
      "execution_count": null,
      "outputs": []
    },
    {
      "cell_type": "code",
      "source": [
        "print(\"The number of inverters in plant_2 = \",Plant_2_Generation_Data ['SOURCE_KEY'].nunique())"
      ],
      "metadata": {
        "id": "QH5QNjPudfFD"
      },
      "id": "QH5QNjPudfFD",
      "execution_count": null,
      "outputs": []
    },
    {
      "cell_type": "markdown",
      "source": [
        "<div style=\"border-radius: 40px;\n",
        "            color: #403b34;\n",
        "            background-color: #bdbebf;\n",
        "            font-size: 100%;\n",
        "            text-align: left;\n",
        "            padding: 20px;\n",
        "            margin: 10px;\n",
        "            box-shadow: 0px 2px 4px rgba(0, 0, 0, 0.1);\">\n",
        "    <p style=\"margin-bottom: 10px; font-weight: bold;\">Output Analysis:</p>\n",
        "    <ul style=\"margin-top: 0;\">\n",
        "        <li>Both Plant-1 & Plant-2 have 22 Invertor each\n",
        "    </ul>\n",
        "</div>"
      ],
      "metadata": {
        "id": "VTUAP-RzeStc"
      },
      "id": "VTUAP-RzeStc"
    },
    {
      "cell_type": "markdown",
      "id": "41801774",
      "metadata": {
        "papermill": {
          "duration": 0.009308,
          "end_time": "2023-06-17T21:58:14.768092",
          "exception": false,
          "start_time": "2023-06-17T21:58:14.758784",
          "status": "completed"
        },
        "tags": [],
        "id": "41801774"
      },
      "source": [
        "<div style=\"border-radius:20px;\n",
        "            border : black solid;\n",
        "            color: #403b34;\n",
        "            background-color: #cc7e08;\n",
        "            font-size:100%;\n",
        "            text-align: left;\n",
        "            margin-left: 10px;\n",
        "            margin-right: 10px;\">\n",
        "\n",
        "<h2 style='; border:0; border-radius: 15px; font-weight: bold; color:#2b2924'><center>\n",
        "    </br> EXPLORATORY DATA ANALYSIS (EDA)\n",
        "</center></h2>"
      ]
    },
    {
      "cell_type": "code",
      "execution_count": null,
      "id": "8ad1ea4f",
      "metadata": {
        "execution": {
          "iopub.execute_input": "2023-06-17T21:58:14.790341Z",
          "iopub.status.busy": "2023-06-17T21:58:14.789406Z",
          "iopub.status.idle": "2023-06-17T21:58:15.402472Z",
          "shell.execute_reply": "2023-06-17T21:58:15.401520Z"
        },
        "papermill": {
          "duration": 0.627912,
          "end_time": "2023-06-17T21:58:15.405710",
          "exception": false,
          "start_time": "2023-06-17T21:58:14.777798",
          "status": "completed"
        },
        "tags": [],
        "id": "8ad1ea4f"
      },
      "outputs": [],
      "source": [
        "# power generation datasets\n",
        "def check(data):\n",
        "    l = []\n",
        "    columns = data.columns\n",
        "    for col in columns:\n",
        "        instances = data[col].count()\n",
        "        dtypes = data[col].dtype\n",
        "        unique = data[col].nunique()\n",
        "        sum_null = data[col].isnull().sum()\n",
        "        duplicates = data.duplicated().sum()\n",
        "        l.append([col, dtypes, instances, unique, sum_null, duplicates])\n",
        "    data_check = pd.DataFrame(l, columns=[\"column\", \"dtype\", \"instances\", \"unique\", \"sum_null\", \"duplicates\"])\n",
        "    return data_check\n",
        "\n",
        "check1 = check(Plant_1_Generation_Data )\n",
        "check2 = check(Plant_2_Generation_Data )\n",
        "\n",
        "output = pd.concat([check1, check2], axis=1)\n",
        "\n",
        "output\n"
      ]
    },
    {
      "cell_type": "code",
      "source": [
        "Plant_1_Generation_Data.info()"
      ],
      "metadata": {
        "id": "PGFZ4rm8k_9w"
      },
      "id": "PGFZ4rm8k_9w",
      "execution_count": null,
      "outputs": []
    },
    {
      "cell_type": "code",
      "source": [
        "Plant_2_Generation_Data.info()"
      ],
      "metadata": {
        "id": "_b_A05nS4xXq"
      },
      "id": "_b_A05nS4xXq",
      "execution_count": null,
      "outputs": []
    },
    {
      "cell_type": "code",
      "source": [
        "print(\"\\n\")\n",
        "Plant_1_Generation_Data.describe()"
      ],
      "metadata": {
        "id": "YGA9IST84xFc"
      },
      "id": "YGA9IST84xFc",
      "execution_count": null,
      "outputs": []
    },
    {
      "cell_type": "code",
      "source": [
        "Plant_2_Generation_Data.info()"
      ],
      "metadata": {
        "id": "ZwRmjP194vlw"
      },
      "id": "ZwRmjP194vlw",
      "execution_count": null,
      "outputs": []
    },
    {
      "cell_type": "code",
      "source": [
        "print (\"\\n\")\n",
        "Plant_2_Generation_Data.describe()"
      ],
      "metadata": {
        "id": "3YLA0e6e4vXa"
      },
      "id": "3YLA0e6e4vXa",
      "execution_count": null,
      "outputs": []
    },
    {
      "cell_type": "markdown",
      "id": "e50d4874",
      "metadata": {
        "papermill": {
          "duration": 0.009632,
          "end_time": "2023-06-17T21:58:15.429361",
          "exception": false,
          "start_time": "2023-06-17T21:58:15.419729",
          "status": "completed"
        },
        "tags": [],
        "id": "e50d4874"
      },
      "source": [
        "<div style=\"border-radius: 40px;\n",
        "            color: #403b34;\n",
        "            background-color: #bdbebf;\n",
        "            font-size: 100%;\n",
        "            text-align: left;\n",
        "            padding: 20px;\n",
        "            margin: 10px;\n",
        "            box-shadow: 0px 2px 4px rgba(0, 0, 0, 0.1);\">\n",
        "    <p style=\"margin-bottom: 10px; font-weight: bold;\">Output Analysis:</p>\n",
        "    <ul style=\"margin-top: 0;\">\n",
        "        <li>power generation dataset of Plant 1 comprises a total of 68,778 records</li>\n",
        "        <li>power generation dataset of Plant 2 comprises a total of 67,698 records\n",
        "        <li>there are neither duplicates nor any missing values in both power generation datasets</li>\n",
        "        <li>each of the two plants is equipped with a total of 22 inverters</li>\n",
        "        <li>'DATE_TIME' column is currently stored as an object data type instead of date-time in both power generation datasets</li>\n",
        "    </ul>\n",
        "</div>"
      ]
    },
    {
      "cell_type": "code",
      "source": [
        "# sensor datasets\n",
        "def check(data):\n",
        "    l = []\n",
        "    columns = data.columns\n",
        "    for col in columns:\n",
        "        instances = data[col].count()\n",
        "        dtypes = data[col].dtype\n",
        "        unique = data[col].nunique()\n",
        "        sum_null = data[col].isnull().sum()\n",
        "        duplicates = data.duplicated().sum()\n",
        "        l.append([col, dtypes, instances, unique, sum_null, duplicates])\n",
        "    data_check = pd.DataFrame(l, columns=[\"column\", \"dtype\", \"instances\", \"unique\", \"sum_null\", \"duplicates\"])\n",
        "    return data_check\n",
        "\n",
        "check1 = check(Plant_1_weather_sensor_Data)\n",
        "check2 = check(Plant_1_weather_sensor_Data)\n",
        "\n",
        "output = pd.concat([check1, check2], axis=1)\n",
        "\n",
        "output"
      ],
      "metadata": {
        "id": "VkafacOM5Ggs"
      },
      "id": "VkafacOM5Ggs",
      "execution_count": null,
      "outputs": []
    },
    {
      "cell_type": "code",
      "source": [
        "Plant_1_weather_sensor_Data.info()"
      ],
      "metadata": {
        "id": "wnCS4Uum5jzF"
      },
      "id": "wnCS4Uum5jzF",
      "execution_count": null,
      "outputs": []
    },
    {
      "cell_type": "code",
      "source": [
        "print(\"\\n\")\n",
        "Plant_1_weather_sensor_Data.describe()"
      ],
      "metadata": {
        "colab": {
          "base_uri": "https://localhost:8080/",
          "height": 335
        },
        "id": "7C_2D9oI5jlF",
        "outputId": "0341613d-8cc3-477a-ac57-aef03f265639"
      },
      "id": "7C_2D9oI5jlF",
      "execution_count": 35,
      "outputs": [
        {
          "output_type": "stream",
          "name": "stdout",
          "text": [
            "\n",
            "\n"
          ]
        },
        {
          "output_type": "execute_result",
          "data": {
            "text/plain": [
              "        PLANT_ID  AMBIENT_TEMPERATURE  MODULE_TEMPERATURE  IRRADIATION\n",
              "count     3182.0          3182.000000         3182.000000  3182.000000\n",
              "mean   4135001.0            25.531606           31.091015     0.228313\n",
              "std          0.0             3.354856           12.261222     0.300836\n",
              "min    4135001.0            20.398505           18.140415     0.000000\n",
              "25%    4135001.0            22.705182           21.090553     0.000000\n",
              "50%    4135001.0            24.613814           24.618060     0.024653\n",
              "75%    4135001.0            27.920532           41.307840     0.449588\n",
              "max    4135001.0            35.252486           65.545714     1.221652"
            ],
            "text/html": [
              "\n",
              "\n",
              "  <div id=\"df-e7b3dfdf-1cb9-47f7-8222-2f35fff5ade1\">\n",
              "    <div class=\"colab-df-container\">\n",
              "      <div>\n",
              "<style scoped>\n",
              "    .dataframe tbody tr th:only-of-type {\n",
              "        vertical-align: middle;\n",
              "    }\n",
              "\n",
              "    .dataframe tbody tr th {\n",
              "        vertical-align: top;\n",
              "    }\n",
              "\n",
              "    .dataframe thead th {\n",
              "        text-align: right;\n",
              "    }\n",
              "</style>\n",
              "<table border=\"1\" class=\"dataframe\">\n",
              "  <thead>\n",
              "    <tr style=\"text-align: right;\">\n",
              "      <th></th>\n",
              "      <th>PLANT_ID</th>\n",
              "      <th>AMBIENT_TEMPERATURE</th>\n",
              "      <th>MODULE_TEMPERATURE</th>\n",
              "      <th>IRRADIATION</th>\n",
              "    </tr>\n",
              "  </thead>\n",
              "  <tbody>\n",
              "    <tr>\n",
              "      <th>count</th>\n",
              "      <td>3182.0</td>\n",
              "      <td>3182.000000</td>\n",
              "      <td>3182.000000</td>\n",
              "      <td>3182.000000</td>\n",
              "    </tr>\n",
              "    <tr>\n",
              "      <th>mean</th>\n",
              "      <td>4135001.0</td>\n",
              "      <td>25.531606</td>\n",
              "      <td>31.091015</td>\n",
              "      <td>0.228313</td>\n",
              "    </tr>\n",
              "    <tr>\n",
              "      <th>std</th>\n",
              "      <td>0.0</td>\n",
              "      <td>3.354856</td>\n",
              "      <td>12.261222</td>\n",
              "      <td>0.300836</td>\n",
              "    </tr>\n",
              "    <tr>\n",
              "      <th>min</th>\n",
              "      <td>4135001.0</td>\n",
              "      <td>20.398505</td>\n",
              "      <td>18.140415</td>\n",
              "      <td>0.000000</td>\n",
              "    </tr>\n",
              "    <tr>\n",
              "      <th>25%</th>\n",
              "      <td>4135001.0</td>\n",
              "      <td>22.705182</td>\n",
              "      <td>21.090553</td>\n",
              "      <td>0.000000</td>\n",
              "    </tr>\n",
              "    <tr>\n",
              "      <th>50%</th>\n",
              "      <td>4135001.0</td>\n",
              "      <td>24.613814</td>\n",
              "      <td>24.618060</td>\n",
              "      <td>0.024653</td>\n",
              "    </tr>\n",
              "    <tr>\n",
              "      <th>75%</th>\n",
              "      <td>4135001.0</td>\n",
              "      <td>27.920532</td>\n",
              "      <td>41.307840</td>\n",
              "      <td>0.449588</td>\n",
              "    </tr>\n",
              "    <tr>\n",
              "      <th>max</th>\n",
              "      <td>4135001.0</td>\n",
              "      <td>35.252486</td>\n",
              "      <td>65.545714</td>\n",
              "      <td>1.221652</td>\n",
              "    </tr>\n",
              "  </tbody>\n",
              "</table>\n",
              "</div>\n",
              "      <button class=\"colab-df-convert\" onclick=\"convertToInteractive('df-e7b3dfdf-1cb9-47f7-8222-2f35fff5ade1')\"\n",
              "              title=\"Convert this dataframe to an interactive table.\"\n",
              "              style=\"display:none;\">\n",
              "\n",
              "  <svg xmlns=\"http://www.w3.org/2000/svg\" height=\"24px\"viewBox=\"0 0 24 24\"\n",
              "       width=\"24px\">\n",
              "    <path d=\"M0 0h24v24H0V0z\" fill=\"none\"/>\n",
              "    <path d=\"M18.56 5.44l.94 2.06.94-2.06 2.06-.94-2.06-.94-.94-2.06-.94 2.06-2.06.94zm-11 1L8.5 8.5l.94-2.06 2.06-.94-2.06-.94L8.5 2.5l-.94 2.06-2.06.94zm10 10l.94 2.06.94-2.06 2.06-.94-2.06-.94-.94-2.06-.94 2.06-2.06.94z\"/><path d=\"M17.41 7.96l-1.37-1.37c-.4-.4-.92-.59-1.43-.59-.52 0-1.04.2-1.43.59L10.3 9.45l-7.72 7.72c-.78.78-.78 2.05 0 2.83L4 21.41c.39.39.9.59 1.41.59.51 0 1.02-.2 1.41-.59l7.78-7.78 2.81-2.81c.8-.78.8-2.07 0-2.86zM5.41 20L4 18.59l7.72-7.72 1.47 1.35L5.41 20z\"/>\n",
              "  </svg>\n",
              "      </button>\n",
              "\n",
              "\n",
              "\n",
              "    <div id=\"df-c60e43a1-d7a7-444e-840e-a724c3aa68d0\">\n",
              "      <button class=\"colab-df-quickchart\" onclick=\"quickchart('df-c60e43a1-d7a7-444e-840e-a724c3aa68d0')\"\n",
              "              title=\"Suggest charts.\"\n",
              "              style=\"display:none;\">\n",
              "\n",
              "<svg xmlns=\"http://www.w3.org/2000/svg\" height=\"24px\"viewBox=\"0 0 24 24\"\n",
              "     width=\"24px\">\n",
              "    <g>\n",
              "        <path d=\"M19 3H5c-1.1 0-2 .9-2 2v14c0 1.1.9 2 2 2h14c1.1 0 2-.9 2-2V5c0-1.1-.9-2-2-2zM9 17H7v-7h2v7zm4 0h-2V7h2v10zm4 0h-2v-4h2v4z\"/>\n",
              "    </g>\n",
              "</svg>\n",
              "      </button>\n",
              "    </div>\n",
              "\n",
              "<style>\n",
              "  .colab-df-quickchart {\n",
              "    background-color: #E8F0FE;\n",
              "    border: none;\n",
              "    border-radius: 50%;\n",
              "    cursor: pointer;\n",
              "    display: none;\n",
              "    fill: #1967D2;\n",
              "    height: 32px;\n",
              "    padding: 0 0 0 0;\n",
              "    width: 32px;\n",
              "  }\n",
              "\n",
              "  .colab-df-quickchart:hover {\n",
              "    background-color: #E2EBFA;\n",
              "    box-shadow: 0px 1px 2px rgba(60, 64, 67, 0.3), 0px 1px 3px 1px rgba(60, 64, 67, 0.15);\n",
              "    fill: #174EA6;\n",
              "  }\n",
              "\n",
              "  [theme=dark] .colab-df-quickchart {\n",
              "    background-color: #3B4455;\n",
              "    fill: #D2E3FC;\n",
              "  }\n",
              "\n",
              "  [theme=dark] .colab-df-quickchart:hover {\n",
              "    background-color: #434B5C;\n",
              "    box-shadow: 0px 1px 3px 1px rgba(0, 0, 0, 0.15);\n",
              "    filter: drop-shadow(0px 1px 2px rgba(0, 0, 0, 0.3));\n",
              "    fill: #FFFFFF;\n",
              "  }\n",
              "</style>\n",
              "\n",
              "    <script>\n",
              "      async function quickchart(key) {\n",
              "        const containerElement = document.querySelector('#' + key);\n",
              "        const charts = await google.colab.kernel.invokeFunction(\n",
              "            'suggestCharts', [key], {});\n",
              "      }\n",
              "    </script>\n",
              "\n",
              "      <script>\n",
              "\n",
              "function displayQuickchartButton(domScope) {\n",
              "  let quickchartButtonEl =\n",
              "    domScope.querySelector('#df-c60e43a1-d7a7-444e-840e-a724c3aa68d0 button.colab-df-quickchart');\n",
              "  quickchartButtonEl.style.display =\n",
              "    google.colab.kernel.accessAllowed ? 'block' : 'none';\n",
              "}\n",
              "\n",
              "        displayQuickchartButton(document);\n",
              "      </script>\n",
              "      <style>\n",
              "    .colab-df-container {\n",
              "      display:flex;\n",
              "      flex-wrap:wrap;\n",
              "      gap: 12px;\n",
              "    }\n",
              "\n",
              "    .colab-df-convert {\n",
              "      background-color: #E8F0FE;\n",
              "      border: none;\n",
              "      border-radius: 50%;\n",
              "      cursor: pointer;\n",
              "      display: none;\n",
              "      fill: #1967D2;\n",
              "      height: 32px;\n",
              "      padding: 0 0 0 0;\n",
              "      width: 32px;\n",
              "    }\n",
              "\n",
              "    .colab-df-convert:hover {\n",
              "      background-color: #E2EBFA;\n",
              "      box-shadow: 0px 1px 2px rgba(60, 64, 67, 0.3), 0px 1px 3px 1px rgba(60, 64, 67, 0.15);\n",
              "      fill: #174EA6;\n",
              "    }\n",
              "\n",
              "    [theme=dark] .colab-df-convert {\n",
              "      background-color: #3B4455;\n",
              "      fill: #D2E3FC;\n",
              "    }\n",
              "\n",
              "    [theme=dark] .colab-df-convert:hover {\n",
              "      background-color: #434B5C;\n",
              "      box-shadow: 0px 1px 3px 1px rgba(0, 0, 0, 0.15);\n",
              "      filter: drop-shadow(0px 1px 2px rgba(0, 0, 0, 0.3));\n",
              "      fill: #FFFFFF;\n",
              "    }\n",
              "  </style>\n",
              "\n",
              "      <script>\n",
              "        const buttonEl =\n",
              "          document.querySelector('#df-e7b3dfdf-1cb9-47f7-8222-2f35fff5ade1 button.colab-df-convert');\n",
              "        buttonEl.style.display =\n",
              "          google.colab.kernel.accessAllowed ? 'block' : 'none';\n",
              "\n",
              "        async function convertToInteractive(key) {\n",
              "          const element = document.querySelector('#df-e7b3dfdf-1cb9-47f7-8222-2f35fff5ade1');\n",
              "          const dataTable =\n",
              "            await google.colab.kernel.invokeFunction('convertToInteractive',\n",
              "                                                     [key], {});\n",
              "          if (!dataTable) return;\n",
              "\n",
              "          const docLinkHtml = 'Like what you see? Visit the ' +\n",
              "            '<a target=\"_blank\" href=https://colab.research.google.com/notebooks/data_table.ipynb>data table notebook</a>'\n",
              "            + ' to learn more about interactive tables.';\n",
              "          element.innerHTML = '';\n",
              "          dataTable['output_type'] = 'display_data';\n",
              "          await google.colab.output.renderOutput(dataTable, element);\n",
              "          const docLink = document.createElement('div');\n",
              "          docLink.innerHTML = docLinkHtml;\n",
              "          element.appendChild(docLink);\n",
              "        }\n",
              "      </script>\n",
              "    </div>\n",
              "  </div>\n"
            ]
          },
          "metadata": {},
          "execution_count": 35
        }
      ]
    },
    {
      "cell_type": "code",
      "source": [
        "Plant_2_weather_sensor_Data.info()"
      ],
      "metadata": {
        "id": "y7wLSDfF5jZ0"
      },
      "id": "y7wLSDfF5jZ0",
      "execution_count": null,
      "outputs": []
    },
    {
      "cell_type": "code",
      "source": [
        "print(\"\\n\")\n",
        "Plant_2_weather_sensor_Data.describe()"
      ],
      "metadata": {
        "id": "TlCWgaJ55jNL"
      },
      "id": "TlCWgaJ55jNL",
      "execution_count": null,
      "outputs": []
    },
    {
      "cell_type": "code",
      "source": [
        "Plant_1_weather_sensor_Data.head()"
      ],
      "metadata": {
        "id": "tkiidZnhXGCZ"
      },
      "id": "tkiidZnhXGCZ",
      "execution_count": null,
      "outputs": []
    },
    {
      "cell_type": "markdown",
      "id": "ae7d57dd",
      "metadata": {
        "papermill": {
          "duration": 0.009705,
          "end_time": "2023-06-17T21:58:15.539421",
          "exception": false,
          "start_time": "2023-06-17T21:58:15.529716",
          "status": "completed"
        },
        "tags": [],
        "id": "ae7d57dd"
      },
      "source": [
        "<div style=\"border-radius: 40px;\n",
        "            color: #403b34;\n",
        "            background-color: #bdbebf;\n",
        "            font-size: 100%;\n",
        "            text-align: left;\n",
        "            padding: 20px;\n",
        "            margin: 10px;\n",
        "            box-shadow: 0px 2px 4px rgba(0, 0, 0, 0.1);\">\n",
        "    <p style=\"margin-bottom: 10px; font-weight: bold;\">Output Analysis:</p>\n",
        "    <ul style=\"margin-top: 0;\">\n",
        "        <li>sensor dataset of Plant 1 comprises a total of 3,182 records</li>\n",
        "        <li>sensor generation dataset of Plant 2 comprises a total of 3,259 records\n",
        "        <li>there are neither duplicates nor any missing values in both  sensor datasets</li>\n",
        "        <li>'DATE_TIME' column is currently stored as an object data type instead of date-time in both sensor datasets</li>\n",
        "    </ul>\n",
        "</div>"
      ]
    },
    {
      "cell_type": "code",
      "execution_count": 39,
      "id": "17e8092b",
      "metadata": {
        "execution": {
          "iopub.execute_input": "2023-06-17T21:58:15.562140Z",
          "iopub.status.busy": "2023-06-17T21:58:15.561752Z",
          "iopub.status.idle": "2023-06-17T21:58:15.640951Z",
          "shell.execute_reply": "2023-06-17T21:58:15.639968Z"
        },
        "papermill": {
          "duration": 0.093489,
          "end_time": "2023-06-17T21:58:15.643697",
          "exception": false,
          "start_time": "2023-06-17T21:58:15.550208",
          "status": "completed"
        },
        "tags": [],
        "id": "17e8092b"
      },
      "outputs": [],
      "source": [
        "# Parse datetime\n",
        "Plant_1_Generation_Data[\"DATE_TIME\"] = pd.to_datetime(Plant_1_Generation_Data[\"DATE_TIME\"],format=\"%d-%m-%Y %H:%M\")\n",
        "Plant_2_Generation_Data[\"DATE_TIME\"] = pd.to_datetime(Plant_2_Generation_Data[\"DATE_TIME\"],format=\"%Y-%m-%d %H:%M:%S\")\n",
        "Plant_1_weather_sensor_Data[\"DATE_TIME\"] = pd.to_datetime(Plant_1_weather_sensor_Data[\"DATE_TIME\"],format=\"%Y-%m-%d %H:%M:%S\")\n",
        "Plant_2_weather_sensor_Data[\"DATE_TIME\"] = pd.to_datetime(Plant_2_weather_sensor_Data[\"DATE_TIME\"],format=\"%Y-%m-%d %H:%M:%S\")\n",
        "\n",
        "\n",
        "Plant_1_Generation_Data_idx = Plant_1_Generation_Data.groupby('DATE_TIME').sum().reset_index()\n",
        "Plant_1_Generation_Data_idx[\"PLANT_ID\"]= 1\n",
        "Plant_2_Generation_Data_idx = Plant_2_Generation_Data.groupby('DATE_TIME').sum().reset_index()\n",
        "Plant_2_Generation_Data_idx[\"PLANT_ID\"]= 2\n",
        "\n",
        "Plant_1_weather_sensor_Data[\"PLANT_ID\"]= 1\n",
        "Plant_2_weather_sensor_Data[\"PLANT_ID\"]= 2\n"
      ]
    },
    {
      "cell_type": "code",
      "source": [
        "Plant_2_Generation_Data.head()"
      ],
      "metadata": {
        "id": "yNGDk7kgVfTE"
      },
      "id": "yNGDk7kgVfTE",
      "execution_count": null,
      "outputs": []
    },
    {
      "cell_type": "markdown",
      "id": "b538a3fe",
      "metadata": {
        "papermill": {
          "duration": 0.016123,
          "end_time": "2023-06-17T21:58:17.288358",
          "exception": false,
          "start_time": "2023-06-17T21:58:17.272235",
          "status": "completed"
        },
        "tags": [],
        "id": "b538a3fe"
      },
      "source": [
        "<div style=\"border-radius: 40px;\n",
        "            color: #403b34;\n",
        "            background-color: #bdbebf;\n",
        "            font-size: 100%;\n",
        "            text-align: left;\n",
        "            padding: 20px;\n",
        "            margin: 10px;\n",
        "            box-shadow: 0px 2px 4px rgba(0, 0, 0, 0.1);\">\n",
        "    <p style=\"margin-bottom: 10px; font-weight: bold;\">Output Analysis:</p>\n",
        "    <ul style=\"margin-top: 0;\">\n",
        "        <li>In the power generation dataset of Plant 1, there seems to be a big difference between the AC power and DC power measurements. This difference is so significant that it suggests the possibility of a tenfold (10 times) gap between the recorded values for DC power. </li>\n",
        "        </ul>\n",
        "</div>"
      ]
    },
    {
      "cell_type": "code",
      "execution_count": null,
      "id": "61878841",
      "metadata": {
        "execution": {
          "iopub.execute_input": "2023-06-17T21:58:17.321173Z",
          "iopub.status.busy": "2023-06-17T21:58:17.320753Z",
          "iopub.status.idle": "2023-06-17T21:58:18.605048Z",
          "shell.execute_reply": "2023-06-17T21:58:18.603905Z"
        },
        "papermill": {
          "duration": 1.305086,
          "end_time": "2023-06-17T21:58:18.608899",
          "exception": false,
          "start_time": "2023-06-17T21:58:17.303813",
          "status": "completed"
        },
        "tags": [],
        "id": "61878841"
      },
      "outputs": [],
      "source": [
        "fig, axs = plt.subplots(1, 2, figsize=(20, 5))\n",
        "\n",
        "\n",
        "axs[0].plot(Plant_2_Generation_Data_idx['DATE_TIME'], Plant_2_Generation_Data_idx['DC_POWER'], color='#cc7e08')\n",
        "axs[0].set_xlabel('Date')\n",
        "axs[0].set_ylabel('kW')\n",
        "axs[0].set_title('DC Power - Plant 2')\n",
        "axs[0].tick_params(axis='x', rotation=45)\n",
        "\n",
        "\n",
        "axs[1].plot(Plant_2_Generation_Data_idx['DATE_TIME'], Plant_2_Generation_Data_idx['AC_POWER'], color='#2b2924')\n",
        "axs[1].set_xlabel('Date')\n",
        "axs[1].set_ylabel('kW')\n",
        "axs[1].set_title('AC Power - Plant 2')\n",
        "axs[1].tick_params(axis='x', rotation=45)\n",
        "\n",
        "\n",
        "plt.tight_layout()\n",
        "plt.show()\n",
        "\n",
        "plt.figure(figsize=(20, 5))\n",
        "plt.plot(Plant_2_Generation_Data_idx['DATE_TIME'], Plant_2_Generation_Data_idx['DC_POWER'], color='#cc7e08', label='DC Power')\n",
        "plt.plot(Plant_2_Generation_Data_idx['DATE_TIME'], Plant_2_Generation_Data_idx['AC_POWER'], color='#2b2924', label='AC Power')\n",
        "plt.xlabel('Date')\n",
        "plt.ylabel('kW')\n",
        "plt.title('Power Output - Plant 2')\n",
        "plt.xticks(rotation=45)\n",
        "plt.legend()\n",
        "plt.tight_layout()\n",
        "plt.show()\n"
      ]
    },
    {
      "cell_type": "markdown",
      "id": "283d73ab",
      "metadata": {
        "papermill": {
          "duration": 0.01959,
          "end_time": "2023-06-17T21:58:18.648518",
          "exception": false,
          "start_time": "2023-06-17T21:58:18.628928",
          "status": "completed"
        },
        "tags": [],
        "id": "283d73ab"
      },
      "source": [
        "<div style=\"border-radius: 40px;\n",
        "            color: #403b34;\n",
        "            background-color: #bdbebf;\n",
        "            font-size: 100%;\n",
        "            text-align: left;\n",
        "            padding: 20px;\n",
        "            margin: 10px;\n",
        "            box-shadow: 0px 2px 4px rgba(0, 0, 0, 0.1);\">\n",
        "    <p style=\"margin-bottom: 10px; font-weight: bold;\">Output Analysis:</p>\n",
        "    <ul style=\"margin-top: 0;\">\n",
        "        <li> AC power and DC power measurements are relatively close or consistent with each other.  </li>\n",
        "        </ul>\n",
        "</div>"
      ]
    },
    {
      "cell_type": "code",
      "execution_count": 42,
      "id": "38395351",
      "metadata": {
        "execution": {
          "iopub.execute_input": "2023-06-17T21:58:18.691037Z",
          "iopub.status.busy": "2023-06-17T21:58:18.689972Z",
          "iopub.status.idle": "2023-06-17T21:58:18.709334Z",
          "shell.execute_reply": "2023-06-17T21:58:18.708195Z"
        },
        "papermill": {
          "duration": 0.043845,
          "end_time": "2023-06-17T21:58:18.712146",
          "exception": false,
          "start_time": "2023-06-17T21:58:18.668301",
          "status": "completed"
        },
        "tags": [],
        "id": "38395351"
      },
      "outputs": [],
      "source": [
        "Plant_1_Generation_Data_idx[\"DC_POWER\"] = Plant_1_Generation_Data_idx[\"DC_POWER\"]/10\n",
        "\n",
        "# Merging Generation Data\n",
        "power_ds = pd.concat([Plant_1_Generation_Data_idx, Plant_2_Generation_Data_idx])\n",
        "\n",
        "# Merging Sensor Data\n",
        "sensor_ds = pd.concat([Plant_1_weather_sensor_Data, Plant_2_weather_sensor_Data])\n",
        "\n",
        "ds = pd.merge(power_ds, sensor_ds, on=['DATE_TIME','PLANT_ID'])\n"
      ]
    },
    {
      "cell_type": "code",
      "execution_count": null,
      "id": "1976a716",
      "metadata": {
        "execution": {
          "iopub.execute_input": "2023-06-17T21:58:18.755095Z",
          "iopub.status.busy": "2023-06-17T21:58:18.753955Z",
          "iopub.status.idle": "2023-06-17T21:58:19.406795Z",
          "shell.execute_reply": "2023-06-17T21:58:19.405303Z"
        },
        "papermill": {
          "duration": 0.678111,
          "end_time": "2023-06-17T21:58:19.410513",
          "exception": false,
          "start_time": "2023-06-17T21:58:18.732402",
          "status": "completed"
        },
        "tags": [],
        "id": "1976a716"
      },
      "outputs": [],
      "source": [
        "# plot Daiyly Yield against plants\n",
        "plt.figure(figsize=(20, 5))\n",
        "sns.lineplot(x=\"DATE_TIME\", y=\"DAILY_YIELD\",\n",
        "             hue=\"PLANT_ID\",\n",
        "             palette=[\"#cc7e08\", \"#2b2924\"],\n",
        "             data=ds)\n",
        "plt.tight_layout()"
      ]
    },
    {
      "cell_type": "code",
      "execution_count": null,
      "id": "ade3f973",
      "metadata": {
        "execution": {
          "iopub.execute_input": "2023-06-17T21:58:19.460337Z",
          "iopub.status.busy": "2023-06-17T21:58:19.459360Z",
          "iopub.status.idle": "2023-06-17T21:58:20.182877Z",
          "shell.execute_reply": "2023-06-17T21:58:20.181716Z"
        },
        "papermill": {
          "duration": 0.751687,
          "end_time": "2023-06-17T21:58:20.186086",
          "exception": false,
          "start_time": "2023-06-17T21:58:19.434399",
          "status": "completed"
        },
        "tags": [],
        "id": "ade3f973"
      },
      "outputs": [],
      "source": [
        "correlation_matrix = ds.corr()\n",
        "\n",
        "# Set up the figure and axes\n",
        "fig, ax = plt.subplots(figsize=(8, 6))\n",
        "\n",
        "# Create the correlogram using seaborn's pairplot function\n",
        "sns.heatmap(correlation_matrix, annot=True, fmt=\".2f\", cmap=\"copper\", ax=ax)\n",
        "\n",
        "# Customize the plot aesthetics\n",
        "ax.set_title(\"Correlation Plot\", fontsize=14)\n",
        "ax.set_xticklabels(ax.get_xticklabels(), rotation=45, horizontalalignment='right', fontsize=8)\n",
        "ax.set_yticklabels(ax.get_yticklabels(), rotation=0, horizontalalignment='right', fontsize=8)\n",
        "\n",
        "# Show the plot\n",
        "plt.tight_layout()\n",
        "plt.show()\n"
      ]
    },
    {
      "cell_type": "markdown",
      "id": "ef558e22",
      "metadata": {
        "papermill": {
          "duration": 0.024377,
          "end_time": "2023-06-17T21:58:20.234624",
          "exception": false,
          "start_time": "2023-06-17T21:58:20.210247",
          "status": "completed"
        },
        "tags": [],
        "id": "ef558e22"
      },
      "source": [
        "<div style=\"border-radius:20px;\n",
        "            border : black solid;\n",
        "            color: #403b34;\n",
        "            background-color: #cc7e08;\n",
        "            font-size:100%;\n",
        "            text-align: left;\n",
        "            margin-left: 10px;\n",
        "            margin-right: 10px;\">\n",
        "\n",
        "<h2 style='; border:1; border-radius: 15px; font-weight: bold; color:#your_text_color'><center>\n",
        "    </br>SYSTEM PERFORMANCE\n",
        "</center></h2>"
      ]
    },
    {
      "cell_type": "markdown",
      "id": "bc196777",
      "metadata": {
        "papermill": {
          "duration": 0.023888,
          "end_time": "2023-06-17T21:58:20.282708",
          "exception": false,
          "start_time": "2023-06-17T21:58:20.258820",
          "status": "completed"
        },
        "tags": [],
        "id": "bc196777"
      },
      "source": [
        "<div style=\"border-radius:20px;\n",
        "            border : black solid;\n",
        "            color: #403b34;\n",
        "            background-color: #cc7e08;\n",
        "            font-size:100%;\n",
        "            text-align: left;\n",
        "            margin-left: 10px;\n",
        "            margin-right: 10px;\">\n",
        "\n",
        "<h2 style='; border:0; border-radius: 15px; font-weight: bold; color:#2b2924'><center>\n",
        "    </br> Conversion Efficiency\n",
        "</center></h2>  \n",
        "\n",
        "<ol style=\"margin-left:10px;margin-left:10px\">\n",
        "    \n",
        "It provides an indication of how effectively the panels are converting sunlight into usable electricity. This can be calculated using the following formula:\n",
        "</ol>\n",
        "\n",
        "<ol style=\"margin-left:360px\">\n",
        "    <b>Conversion Efficiency = (AC Power / DC Power) * 100</b>\n",
        "</ol>"
      ]
    },
    {
      "cell_type": "code",
      "execution_count": 45,
      "id": "a04a017b",
      "metadata": {
        "execution": {
          "iopub.execute_input": "2023-06-17T21:58:20.333726Z",
          "iopub.status.busy": "2023-06-17T21:58:20.332900Z",
          "iopub.status.idle": "2023-06-17T21:58:20.341212Z",
          "shell.execute_reply": "2023-06-17T21:58:20.340070Z"
        },
        "papermill": {
          "duration": 0.036545,
          "end_time": "2023-06-17T21:58:20.343616",
          "exception": false,
          "start_time": "2023-06-17T21:58:20.307071",
          "status": "completed"
        },
        "tags": [],
        "colab": {
          "base_uri": "https://localhost:8080/"
        },
        "id": "a04a017b",
        "outputId": "d4231d9f-97dc-4327-ee41-f05c67ef2841"
      },
      "outputs": [
        {
          "output_type": "stream",
          "name": "stdout",
          "text": [
            "The Conversion Efficiency for Plant 1 is 97.795 %\n"
          ]
        }
      ],
      "source": [
        "ConvEff_Plant1 = (sum(Plant_1_Generation_Data_idx['AC_POWER']) / (sum(Plant_1_Generation_Data_idx['DC_POWER']))) * 100\n",
        "\n",
        "print(\"The Conversion Efficiency for Plant 1 is\", round(ConvEff_Plant1, 3), \"%\")"
      ]
    },
    {
      "cell_type": "code",
      "execution_count": 46,
      "id": "b2c120df",
      "metadata": {
        "execution": {
          "iopub.execute_input": "2023-06-17T21:58:20.395731Z",
          "iopub.status.busy": "2023-06-17T21:58:20.394923Z",
          "iopub.status.idle": "2023-06-17T21:58:20.402015Z",
          "shell.execute_reply": "2023-06-17T21:58:20.401050Z"
        },
        "papermill": {
          "duration": 0.036025,
          "end_time": "2023-06-17T21:58:20.404330",
          "exception": false,
          "start_time": "2023-06-17T21:58:20.368305",
          "status": "completed"
        },
        "tags": [],
        "colab": {
          "base_uri": "https://localhost:8080/"
        },
        "id": "b2c120df",
        "outputId": "73eb1181-5996-46fb-c256-00627ed68947"
      },
      "outputs": [
        {
          "output_type": "stream",
          "name": "stdout",
          "text": [
            "The Conversion Efficiency for Plant 2 is 97.801 %\n"
          ]
        }
      ],
      "source": [
        "ConvEff_Plant2 = (sum(Plant_2_Generation_Data_idx['AC_POWER']) / sum(Plant_2_Generation_Data_idx['DC_POWER'])) * 100\n",
        "\n",
        "print(\"The Conversion Efficiency for Plant 2 is\", round(ConvEff_Plant2, 3), \"%\")"
      ]
    },
    {
      "cell_type": "code",
      "execution_count": 48,
      "id": "431d408d",
      "metadata": {
        "execution": {
          "iopub.execute_input": "2023-06-17T21:58:20.456831Z",
          "iopub.status.busy": "2023-06-17T21:58:20.456418Z",
          "iopub.status.idle": "2023-06-17T21:58:20.465186Z",
          "shell.execute_reply": "2023-06-17T21:58:20.463846Z"
        },
        "papermill": {
          "duration": 0.03858,
          "end_time": "2023-06-17T21:58:20.467540",
          "exception": false,
          "start_time": "2023-06-17T21:58:20.428960",
          "status": "completed"
        },
        "tags": [],
        "colab": {
          "base_uri": "https://localhost:8080/"
        },
        "id": "431d408d",
        "outputId": "9ab1aa49-5455-430a-f330-bd421f7ef937"
      },
      "outputs": [
        {
          "output_type": "stream",
          "name": "stdout",
          "text": [
            "The Conversion Efficiency for the System is 97.798 %\n"
          ]
        }
      ],
      "source": [
        "ConvEff = (sum(ds['AC_POWER']) / (sum(ds['DC_POWER']))) * 100\n",
        "ConvEff\n",
        "print(\"The Conversion Efficiency for the System is\", round(ConvEff, 3), \"%\")"
      ]
    },
    {
      "cell_type": "markdown",
      "id": "1e8c7b1e",
      "metadata": {
        "papermill": {
          "duration": 0.02496,
          "end_time": "2023-06-17T21:58:20.517288",
          "exception": false,
          "start_time": "2023-06-17T21:58:20.492328",
          "status": "completed"
        },
        "tags": [],
        "id": "1e8c7b1e"
      },
      "source": [
        "<div style=\"border-radius:20px;\n",
        "            border : black solid;\n",
        "            color: #403b34;\n",
        "            background-color: #cc7e08;\n",
        "            font-size:100%;\n",
        "            text-align: left;\n",
        "            margin-left: 10px;\n",
        "            margin-right: 10px;\">\n",
        "\n",
        "<h2 style='; border:0; border-radius: 15px; font-weight: bold; color:#2b2924'><center>\n",
        "    </br> PERFORMANCE RATIO\n",
        "</center></h2>  \n",
        "\n",
        "<ol style=\"margin-left:10px;margin-left:10px\">\n",
        "    \n",
        "Represents a metric used to assess the overall performance of a solar panel system and accounts for losses due to shading, soiling, temperature and other factors. It is calculated by dividing the actual energy output (AC power) by the expected energy output based on ideal conditions (irradiation and module temperature) as follows:\n",
        "\n",
        "\n",
        "</ol>\n",
        "\n",
        "<ol style=\"margin-left:360px\">\n",
        "    <b>Performance Ratio = (AC Power / (Irradiation * Module Temperature)) * 100</b>\n",
        "</ol>\n"
      ]
    },
    {
      "cell_type": "code",
      "execution_count": 49,
      "id": "23734cec",
      "metadata": {
        "execution": {
          "iopub.execute_input": "2023-06-17T21:58:20.572308Z",
          "iopub.status.busy": "2023-06-17T21:58:20.571315Z",
          "iopub.status.idle": "2023-06-17T21:58:20.581078Z",
          "shell.execute_reply": "2023-06-17T21:58:20.579832Z"
        },
        "papermill": {
          "duration": 0.039376,
          "end_time": "2023-06-17T21:58:20.583462",
          "exception": false,
          "start_time": "2023-06-17T21:58:20.544086",
          "status": "completed"
        },
        "tags": [],
        "colab": {
          "base_uri": "https://localhost:8080/"
        },
        "id": "23734cec",
        "outputId": "a67f523e-9b01-436f-f22e-43b763f6a286"
      },
      "outputs": [
        {
          "output_type": "stream",
          "name": "stdout",
          "text": [
            "The Performance Ratio for the System is 12.276 %\n"
          ]
        }
      ],
      "source": [
        "PerformanceRatio = (sum(power_ds['AC_POWER'])/( sum(sensor_ds['IRRADIATION'])*( sum(sensor_ds['MODULE_TEMPERATURE']))))*100\n",
        "\n",
        "print(\"The Performance Ratio for the System is\", round(PerformanceRatio, 3), \"%\")"
      ]
    }
  ],
  "metadata": {
    "kernelspec": {
      "display_name": "Python 3",
      "language": "python",
      "name": "python3"
    },
    "language_info": {
      "codemirror_mode": {
        "name": "ipython",
        "version": 3
      },
      "file_extension": ".py",
      "mimetype": "text/x-python",
      "name": "python",
      "nbconvert_exporter": "python",
      "pygments_lexer": "ipython3",
      "version": "3.10.10"
    },
    "papermill": {
      "default_parameters": {},
      "duration": 22.650972,
      "end_time": "2023-06-17T21:58:21.631812",
      "environment_variables": {},
      "exception": null,
      "input_path": "__notebook__.ipynb",
      "output_path": "__notebook__.ipynb",
      "parameters": {},
      "start_time": "2023-06-17T21:57:58.980840",
      "version": "2.4.0"
    },
    "colab": {
      "provenance": [],
      "include_colab_link": true
    }
  },
  "nbformat": 4,
  "nbformat_minor": 5
}